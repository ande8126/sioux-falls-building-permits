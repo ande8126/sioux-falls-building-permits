{
 "cells": [
  {
   "cell_type": "markdown",
   "metadata": {},
   "source": [
    "# 2020 midyear progress report on Sioux Falls construction"
   ]
  },
  {
   "cell_type": "markdown",
   "metadata": {},
   "source": [
    "Resource for July, 2020 story for the Sioux Falls Business Journal/Argus Leader on progress of construction industry during 2020 and the ongoing coronavirus pandemic. "
   ]
  },
  {
   "cell_type": "markdown",
   "metadata": {},
   "source": [
    "### Import the data"
   ]
  },
  {
   "cell_type": "markdown",
   "metadata": {},
   "source": [
    "(Import includes 'allpermits' combined table, plus individual years from 2014 on)"
   ]
  },
  {
   "cell_type": "code",
   "execution_count": 1,
   "metadata": {},
   "outputs": [],
   "source": [
    "import pandas as pd"
   ]
  },
  {
   "cell_type": "code",
   "execution_count": 8,
   "metadata": {},
   "outputs": [
    {
     "name": "stdout",
     "output_type": "stream",
     "text": [
      "<class 'pandas.core.frame.DataFrame'>\n",
      "Int64Index: 77835 entries, 0 to 17416\n",
      "Data columns (total 8 columns):\n",
      " #   Column        Non-Null Count  Dtype  \n",
      "---  ------        --------------  -----  \n",
      " 0   Date          77835 non-null  object \n",
      " 1   PermitNumber  77835 non-null  object \n",
      " 2   HouseNumber   77835 non-null  object \n",
      " 3   Street        77835 non-null  object \n",
      " 4   Type          77835 non-null  object \n",
      " 5   Description   76956 non-null  object \n",
      " 6   Contractor    77794 non-null  object \n",
      " 7   Value         77835 non-null  float64\n",
      "dtypes: float64(1), object(7)\n",
      "memory usage: 3.3+ MB\n"
     ]
    }
   ],
   "source": [
    "%run Sioux_Falls_building_permits.ipynb"
   ]
  },
  {
   "cell_type": "code",
   "execution_count": 9,
   "metadata": {},
   "outputs": [
    {
     "name": "stdout",
     "output_type": "stream",
     "text": [
      "<class 'pandas.core.frame.DataFrame'>\n",
      "RangeIndex: 8557 entries, 0 to 8556\n",
      "Data columns (total 8 columns):\n",
      " #   Column        Non-Null Count  Dtype  \n",
      "---  ------        --------------  -----  \n",
      " 0   Date          8557 non-null   object \n",
      " 1   PermitNumber  8557 non-null   object \n",
      " 2   HouseNumber   8557 non-null   object \n",
      " 3   Street        8556 non-null   object \n",
      " 4   Type          8557 non-null   object \n",
      " 5   Description   8483 non-null   object \n",
      " 6   Contractor    8554 non-null   object \n",
      " 7   Value         8557 non-null   float64\n",
      "dtypes: float64(1), object(7)\n",
      "memory usage: 300.9+ KB\n"
     ]
    }
   ],
   "source": [
    "permits_2020.info()"
   ]
  },
  {
   "cell_type": "code",
   "execution_count": null,
   "metadata": {},
   "outputs": [],
   "source": []
  }
 ],
 "metadata": {
  "kernelspec": {
   "display_name": "Python 3",
   "language": "python",
   "name": "python3"
  },
  "language_info": {
   "codemirror_mode": {
    "name": "ipython",
    "version": 3
   },
   "file_extension": ".py",
   "mimetype": "text/x-python",
   "name": "python",
   "nbconvert_exporter": "python",
   "pygments_lexer": "ipython3",
   "version": "3.7.4"
  }
 },
 "nbformat": 4,
 "nbformat_minor": 4
}
