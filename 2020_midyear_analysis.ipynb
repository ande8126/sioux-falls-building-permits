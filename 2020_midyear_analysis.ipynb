{
 "cells": [
  {
   "cell_type": "markdown",
   "metadata": {},
   "source": [
    "# 2020 midyear progress report on Sioux Falls construction"
   ]
  },
  {
   "cell_type": "markdown",
   "metadata": {},
   "source": [
    "Resource for July, 2020 story for the Sioux Falls Business Journal/Argus Leader on progress of construction industry during 2020 and the ongoing coronavirus pandemic. "
   ]
  },
  {
   "cell_type": "markdown",
   "metadata": {},
   "source": [
    "### Get the data"
   ]
  },
  {
   "cell_type": "markdown",
   "metadata": {},
   "source": [
    "(Import of Sioux_Falls_building_permits notebook includes 'allpermits' combined table, plus individual years from 2014 on)"
   ]
  },
  {
   "cell_type": "code",
   "execution_count": 1,
   "metadata": {},
   "outputs": [],
   "source": [
    "import pandas as pd"
   ]
  },
  {
   "cell_type": "code",
   "execution_count": 2,
   "metadata": {},
   "outputs": [
    {
     "name": "stdout",
     "output_type": "stream",
     "text": [
      "<class 'pandas.core.frame.DataFrame'>\n",
      "Int64Index: 77835 entries, 0 to 17416\n",
      "Data columns (total 8 columns):\n",
      " #   Column        Non-Null Count  Dtype  \n",
      "---  ------        --------------  -----  \n",
      " 0   Date          77835 non-null  object \n",
      " 1   PermitNumber  77835 non-null  object \n",
      " 2   HouseNumber   77835 non-null  object \n",
      " 3   Street        77835 non-null  object \n",
      " 4   Type          77835 non-null  object \n",
      " 5   Description   76956 non-null  object \n",
      " 6   Contractor    77794 non-null  object \n",
      " 7   Value         77835 non-null  float64\n",
      "dtypes: float64(1), object(7)\n",
      "memory usage: 3.3+ MB\n"
     ]
    }
   ],
   "source": [
    "%run Sioux_Falls_building_permits.ipynb"
   ]
  },
  {
   "cell_type": "code",
   "execution_count": 3,
   "metadata": {},
   "outputs": [
    {
     "name": "stdout",
     "output_type": "stream",
     "text": [
      "<class 'pandas.core.frame.DataFrame'>\n",
      "RangeIndex: 8706 entries, 0 to 8705\n",
      "Data columns (total 8 columns):\n",
      " #   Column        Non-Null Count  Dtype  \n",
      "---  ------        --------------  -----  \n",
      " 0   Date          8706 non-null   object \n",
      " 1   PermitNumber  8706 non-null   object \n",
      " 2   HouseNumber   8706 non-null   object \n",
      " 3   Street        8705 non-null   object \n",
      " 4   Type          8706 non-null   object \n",
      " 5   Description   8632 non-null   object \n",
      " 6   Contractor    8701 non-null   object \n",
      " 7   Value         8706 non-null   float64\n",
      "dtypes: float64(1), object(7)\n",
      "memory usage: 306.1+ KB\n"
     ]
    }
   ],
   "source": [
    "permits_2020.info()"
   ]
  },
  {
   "cell_type": "markdown",
   "metadata": {},
   "source": [
    "### Finding the top projects of 2020 (thru June), by value"
   ]
  },
  {
   "cell_type": "code",
   "execution_count": 4,
   "metadata": {},
   "outputs": [],
   "source": [
    "ranked2020 = permits_2020.sort_values(\"Value\", ascending = False)"
   ]
  },
  {
   "cell_type": "code",
   "execution_count": 5,
   "metadata": {},
   "outputs": [
    {
     "data": {
      "text/html": [
       "<div>\n",
       "<style scoped>\n",
       "    .dataframe tbody tr th:only-of-type {\n",
       "        vertical-align: middle;\n",
       "    }\n",
       "\n",
       "    .dataframe tbody tr th {\n",
       "        vertical-align: top;\n",
       "    }\n",
       "\n",
       "    .dataframe thead th {\n",
       "        text-align: right;\n",
       "    }\n",
       "</style>\n",
       "<table border=\"1\" class=\"dataframe\">\n",
       "  <thead>\n",
       "    <tr style=\"text-align: right;\">\n",
       "      <th></th>\n",
       "      <th>Date</th>\n",
       "      <th>PermitNumber</th>\n",
       "      <th>HouseNumber</th>\n",
       "      <th>Street</th>\n",
       "      <th>Type</th>\n",
       "      <th>Description</th>\n",
       "      <th>Contractor</th>\n",
       "      <th>Value</th>\n",
       "    </tr>\n",
       "  </thead>\n",
       "  <tbody>\n",
       "    <tr>\n",
       "      <th>2897</th>\n",
       "      <td>5/20/2020</td>\n",
       "      <td>Permit-CB-162051-2020</td>\n",
       "      <td>3401</td>\n",
       "      <td>S SPARTA AVE</td>\n",
       "      <td>Commercial Building</td>\n",
       "      <td>Sparta Elementry School for the Brandon Valley...</td>\n",
       "      <td>PESKA CONSTRUCTION INC</td>\n",
       "      <td>13200000.0</td>\n",
       "    </tr>\n",
       "    <tr>\n",
       "      <th>7833</th>\n",
       "      <td>1/31/2020</td>\n",
       "      <td>Permit-CB-153774-2019</td>\n",
       "      <td>1500</td>\n",
       "      <td>S HIGHLINE AVE</td>\n",
       "      <td>Commercial Building</td>\n",
       "      <td>Capital Services</td>\n",
       "      <td>LLOYD CONSTRUCTION COMPANY</td>\n",
       "      <td>8800000.0</td>\n",
       "    </tr>\n",
       "    <tr>\n",
       "      <th>1101</th>\n",
       "      <td>6/15/2020</td>\n",
       "      <td>Permit-CB-169528-2020</td>\n",
       "      <td>5150</td>\n",
       "      <td>W FOUNDATION CT</td>\n",
       "      <td>Commercial Building</td>\n",
       "      <td>New Warehouse</td>\n",
       "      <td>EMPIRE BUILDING CONSTRUCTION</td>\n",
       "      <td>7351000.0</td>\n",
       "    </tr>\n",
       "    <tr>\n",
       "      <th>5642</th>\n",
       "      <td>3/27/2020</td>\n",
       "      <td>Permit-CB-163997-2020</td>\n",
       "      <td>2101</td>\n",
       "      <td>E BENSON RD</td>\n",
       "      <td>Commercial Building</td>\n",
       "      <td>New Office and Truck Shop -- Boyer Trucks</td>\n",
       "      <td>REYNOLDS CONSTRUCTION MANAGEMENT SERVICES INC ...</td>\n",
       "      <td>6749247.0</td>\n",
       "    </tr>\n",
       "    <tr>\n",
       "      <th>3269</th>\n",
       "      <td>5/15/2020</td>\n",
       "      <td>Permit-CB-167154-2020</td>\n",
       "      <td>5900</td>\n",
       "      <td>S GRAYSTONE AVE</td>\n",
       "      <td>Commercial Building</td>\n",
       "      <td>Phase 2 of Whisper Ridge East - This permit is...</td>\n",
       "      <td>SIGNATURE COMPANIES LLC</td>\n",
       "      <td>6194244.0</td>\n",
       "    </tr>\n",
       "    <tr>\n",
       "      <th>3479</th>\n",
       "      <td>5/13/2020</td>\n",
       "      <td>Permit-CB-165803-2020</td>\n",
       "      <td>950</td>\n",
       "      <td>S FOSS AVE</td>\n",
       "      <td>Commercial Building</td>\n",
       "      <td>62 UNIT SENIOR APARTMENT</td>\n",
       "      <td>DEVELOPERS &amp; ASSOCIATES INC</td>\n",
       "      <td>5791191.0</td>\n",
       "    </tr>\n",
       "    <tr>\n",
       "      <th>3894</th>\n",
       "      <td>5/6/2020</td>\n",
       "      <td>Permit-CB-167409-2020</td>\n",
       "      <td>100</td>\n",
       "      <td>S PHILLIPS AVE</td>\n",
       "      <td>Commercial Building</td>\n",
       "      <td>Exterior Improvements - First National Bank. A...</td>\n",
       "      <td>JOURNEY GROUP COMPANIES</td>\n",
       "      <td>4300000.0</td>\n",
       "    </tr>\n",
       "    <tr>\n",
       "      <th>3266</th>\n",
       "      <td>5/15/2020</td>\n",
       "      <td>Permit-CB-167528-2020</td>\n",
       "      <td>5900</td>\n",
       "      <td>S GRAYSTONE AVE</td>\n",
       "      <td>Commercial Building</td>\n",
       "      <td>Phase 2 of Whisper Ridge East - This permit is...</td>\n",
       "      <td>SIGNATURE COMPANIES LLC</td>\n",
       "      <td>3523966.0</td>\n",
       "    </tr>\n",
       "    <tr>\n",
       "      <th>4973</th>\n",
       "      <td>4/13/2020</td>\n",
       "      <td>Permit-CB-160324-2019</td>\n",
       "      <td>220</td>\n",
       "      <td>S SPRING AVE</td>\n",
       "      <td>Commercial Building</td>\n",
       "      <td>Irving Center Apartments -- 3 story, 35 units</td>\n",
       "      <td>LLOYD CONSTRUCTION COMPANY</td>\n",
       "      <td>3441463.0</td>\n",
       "    </tr>\n",
       "    <tr>\n",
       "      <th>6048</th>\n",
       "      <td>3/18/2020</td>\n",
       "      <td>Permit-CB-158107-2019</td>\n",
       "      <td>6810</td>\n",
       "      <td>S MINNESOTA AVE</td>\n",
       "      <td>Commercial Building</td>\n",
       "      <td>American State Bank Office Building</td>\n",
       "      <td>LLOYD CONSTRUCTION COMPANY</td>\n",
       "      <td>3250000.0</td>\n",
       "    </tr>\n",
       "  </tbody>\n",
       "</table>\n",
       "</div>"
      ],
      "text/plain": [
       "           Date           PermitNumber HouseNumber           Street  \\\n",
       "2897  5/20/2020  Permit-CB-162051-2020        3401     S SPARTA AVE   \n",
       "7833  1/31/2020  Permit-CB-153774-2019        1500   S HIGHLINE AVE   \n",
       "1101  6/15/2020  Permit-CB-169528-2020        5150  W FOUNDATION CT   \n",
       "5642  3/27/2020  Permit-CB-163997-2020        2101      E BENSON RD   \n",
       "3269  5/15/2020  Permit-CB-167154-2020        5900  S GRAYSTONE AVE   \n",
       "3479  5/13/2020  Permit-CB-165803-2020         950       S FOSS AVE   \n",
       "3894   5/6/2020  Permit-CB-167409-2020         100   S PHILLIPS AVE   \n",
       "3266  5/15/2020  Permit-CB-167528-2020        5900  S GRAYSTONE AVE   \n",
       "4973  4/13/2020  Permit-CB-160324-2019         220     S SPRING AVE   \n",
       "6048  3/18/2020  Permit-CB-158107-2019        6810  S MINNESOTA AVE   \n",
       "\n",
       "                     Type                                        Description  \\\n",
       "2897  Commercial Building  Sparta Elementry School for the Brandon Valley...   \n",
       "7833  Commercial Building                                   Capital Services   \n",
       "1101  Commercial Building                                      New Warehouse   \n",
       "5642  Commercial Building          New Office and Truck Shop -- Boyer Trucks   \n",
       "3269  Commercial Building  Phase 2 of Whisper Ridge East - This permit is...   \n",
       "3479  Commercial Building                           62 UNIT SENIOR APARTMENT   \n",
       "3894  Commercial Building  Exterior Improvements - First National Bank. A...   \n",
       "3266  Commercial Building  Phase 2 of Whisper Ridge East - This permit is...   \n",
       "4973  Commercial Building      Irving Center Apartments -- 3 story, 35 units   \n",
       "6048  Commercial Building                American State Bank Office Building   \n",
       "\n",
       "                                             Contractor       Value  \n",
       "2897                             PESKA CONSTRUCTION INC  13200000.0  \n",
       "7833                         LLOYD CONSTRUCTION COMPANY   8800000.0  \n",
       "1101                       EMPIRE BUILDING CONSTRUCTION   7351000.0  \n",
       "5642  REYNOLDS CONSTRUCTION MANAGEMENT SERVICES INC ...   6749247.0  \n",
       "3269                            SIGNATURE COMPANIES LLC   6194244.0  \n",
       "3479                        DEVELOPERS & ASSOCIATES INC   5791191.0  \n",
       "3894                            JOURNEY GROUP COMPANIES   4300000.0  \n",
       "3266                            SIGNATURE COMPANIES LLC   3523966.0  \n",
       "4973                         LLOYD CONSTRUCTION COMPANY   3441463.0  \n",
       "6048                         LLOYD CONSTRUCTION COMPANY   3250000.0  "
      ]
     },
     "execution_count": 5,
     "metadata": {},
     "output_type": "execute_result"
    }
   ],
   "source": [
    "ranked2020.head(10)"
   ]
  },
  {
   "cell_type": "markdown",
   "metadata": {},
   "source": [
    "### Finding the top builders of 2020 (thru June), by activity and combined value"
   ]
  },
  {
   "cell_type": "markdown",
   "metadata": {},
   "source": [
    "First by activity..."
   ]
  },
  {
   "cell_type": "code",
   "execution_count": 6,
   "metadata": {},
   "outputs": [],
   "source": [
    "#use dropna to clear out empty cells"
   ]
  },
  {
   "cell_type": "code",
   "execution_count": 7,
   "metadata": {},
   "outputs": [],
   "source": [
    "permits2020 = permits_2020.dropna()"
   ]
  },
  {
   "cell_type": "code",
   "execution_count": 8,
   "metadata": {},
   "outputs": [
    {
     "data": {
      "text/html": [
       "<div>\n",
       "<style scoped>\n",
       "    .dataframe tbody tr th:only-of-type {\n",
       "        vertical-align: middle;\n",
       "    }\n",
       "\n",
       "    .dataframe tbody tr th {\n",
       "        vertical-align: top;\n",
       "    }\n",
       "\n",
       "    .dataframe thead th {\n",
       "        text-align: right;\n",
       "    }\n",
       "</style>\n",
       "<table border=\"1\" class=\"dataframe\">\n",
       "  <thead>\n",
       "    <tr style=\"text-align: right;\">\n",
       "      <th></th>\n",
       "      <th>index</th>\n",
       "      <th>Contractor</th>\n",
       "    </tr>\n",
       "  </thead>\n",
       "  <tbody>\n",
       "    <tr>\n",
       "      <th>0</th>\n",
       "      <td>FRISBEES PLUMBING INC, PLU# 34</td>\n",
       "      <td>210</td>\n",
       "    </tr>\n",
       "    <tr>\n",
       "      <th>1</th>\n",
       "      <td>FRISBEES MECHANICAL INC, MCL# 34</td>\n",
       "      <td>207</td>\n",
       "    </tr>\n",
       "    <tr>\n",
       "      <th>2</th>\n",
       "      <td>AMERICAN FENCE COMPANY OF SOUTH DAKOTA</td>\n",
       "      <td>173</td>\n",
       "    </tr>\n",
       "    <tr>\n",
       "      <th>3</th>\n",
       "      <td>SORLIEN ELECTRIC, ELC# 70</td>\n",
       "      <td>147</td>\n",
       "    </tr>\n",
       "    <tr>\n",
       "      <th>4</th>\n",
       "      <td>MICHAELS FENCE</td>\n",
       "      <td>127</td>\n",
       "    </tr>\n",
       "  </tbody>\n",
       "</table>\n",
       "</div>"
      ],
      "text/plain": [
       "                                    index  Contractor\n",
       "0          FRISBEES PLUMBING INC, PLU# 34         210\n",
       "1        FRISBEES MECHANICAL INC, MCL# 34         207\n",
       "2  AMERICAN FENCE COMPANY OF SOUTH DAKOTA         173\n",
       "3               SORLIEN ELECTRIC, ELC# 70         147\n",
       "4                          MICHAELS FENCE         127"
      ]
     },
     "execution_count": 8,
     "metadata": {},
     "output_type": "execute_result"
    }
   ],
   "source": [
    "permits2020.Contractor.value_counts().reset_index().head()"
   ]
  },
  {
   "cell_type": "markdown",
   "metadata": {},
   "source": [
    "Then by combined value..."
   ]
  },
  {
   "cell_type": "code",
   "execution_count": 9,
   "metadata": {},
   "outputs": [
    {
     "data": {
      "text/html": [
       "<div>\n",
       "<style scoped>\n",
       "    .dataframe tbody tr th:only-of-type {\n",
       "        vertical-align: middle;\n",
       "    }\n",
       "\n",
       "    .dataframe tbody tr th {\n",
       "        vertical-align: top;\n",
       "    }\n",
       "\n",
       "    .dataframe thead th {\n",
       "        text-align: right;\n",
       "    }\n",
       "</style>\n",
       "<table border=\"1\" class=\"dataframe\">\n",
       "  <thead>\n",
       "    <tr style=\"text-align: right;\">\n",
       "      <th></th>\n",
       "      <th>Contractor</th>\n",
       "      <th>Value</th>\n",
       "    </tr>\n",
       "  </thead>\n",
       "  <tbody>\n",
       "    <tr>\n",
       "      <th>1330</th>\n",
       "      <td>LLOYD CONSTRUCTION COMPANY</td>\n",
       "      <td>24894422.0</td>\n",
       "    </tr>\n",
       "    <tr>\n",
       "      <th>1919</th>\n",
       "      <td>SIGNATURE COMPANIES LLC</td>\n",
       "      <td>17850109.0</td>\n",
       "    </tr>\n",
       "    <tr>\n",
       "      <th>1655</th>\n",
       "      <td>PESKA CONSTRUCTION INC</td>\n",
       "      <td>15560000.0</td>\n",
       "    </tr>\n",
       "    <tr>\n",
       "      <th>708</th>\n",
       "      <td>EMPIRE HOMES LLC</td>\n",
       "      <td>12357477.0</td>\n",
       "    </tr>\n",
       "    <tr>\n",
       "      <th>1742</th>\n",
       "      <td>REYNOLDS CONSTRUCTION MANAGEMENT SERVICES INC ...</td>\n",
       "      <td>12240242.0</td>\n",
       "    </tr>\n",
       "    <tr>\n",
       "      <th>...</th>\n",
       "      <td>...</td>\n",
       "      <td>...</td>\n",
       "    </tr>\n",
       "    <tr>\n",
       "      <th>1104</th>\n",
       "      <td>JOSE LOPEZ ARRIVILLAGA</td>\n",
       "      <td>0.0</td>\n",
       "    </tr>\n",
       "    <tr>\n",
       "      <th>1121</th>\n",
       "      <td>JOSH THOMAS</td>\n",
       "      <td>0.0</td>\n",
       "    </tr>\n",
       "    <tr>\n",
       "      <th>1135</th>\n",
       "      <td>JR CONSTRUCTION</td>\n",
       "      <td>0.0</td>\n",
       "    </tr>\n",
       "    <tr>\n",
       "      <th>1138</th>\n",
       "      <td>JTI ELECTRIC INC, ELC# 116</td>\n",
       "      <td>0.0</td>\n",
       "    </tr>\n",
       "    <tr>\n",
       "      <th>2222</th>\n",
       "      <td>ZOOMFIX LLP, FPC# 11</td>\n",
       "      <td>0.0</td>\n",
       "    </tr>\n",
       "  </tbody>\n",
       "</table>\n",
       "<p>2223 rows × 2 columns</p>\n",
       "</div>"
      ],
      "text/plain": [
       "                                             Contractor       Value\n",
       "1330                         LLOYD CONSTRUCTION COMPANY  24894422.0\n",
       "1919                            SIGNATURE COMPANIES LLC  17850109.0\n",
       "1655                             PESKA CONSTRUCTION INC  15560000.0\n",
       "708                                    EMPIRE HOMES LLC  12357477.0\n",
       "1742  REYNOLDS CONSTRUCTION MANAGEMENT SERVICES INC ...  12240242.0\n",
       "...                                                 ...         ...\n",
       "1104                             JOSE LOPEZ ARRIVILLAGA         0.0\n",
       "1121                                        JOSH THOMAS         0.0\n",
       "1135                                    JR CONSTRUCTION         0.0\n",
       "1138                         JTI ELECTRIC INC, ELC# 116         0.0\n",
       "2222                               ZOOMFIX LLP, FPC# 11         0.0\n",
       "\n",
       "[2223 rows x 2 columns]"
      ]
     },
     "execution_count": 9,
     "metadata": {},
     "output_type": "execute_result"
    }
   ],
   "source": [
    "permits2020.groupby(\"Contractor\").Value.sum().reset_index().sort_values(\"Value\", ascending = False)"
   ]
  },
  {
   "cell_type": "code",
   "execution_count": 10,
   "metadata": {},
   "outputs": [],
   "source": [
    "#creating a new variable for Contractor table"
   ]
  },
  {
   "cell_type": "code",
   "execution_count": 11,
   "metadata": {},
   "outputs": [],
   "source": [
    "#using it to show top 7"
   ]
  },
  {
   "cell_type": "code",
   "execution_count": 12,
   "metadata": {},
   "outputs": [],
   "source": [
    "top_contractors = permits2020.groupby(\"Contractor\").Value.sum().reset_index().sort_values(\"Value\", ascending = False)"
   ]
  },
  {
   "cell_type": "code",
   "execution_count": 13,
   "metadata": {},
   "outputs": [
    {
     "data": {
      "text/html": [
       "<div>\n",
       "<style scoped>\n",
       "    .dataframe tbody tr th:only-of-type {\n",
       "        vertical-align: middle;\n",
       "    }\n",
       "\n",
       "    .dataframe tbody tr th {\n",
       "        vertical-align: top;\n",
       "    }\n",
       "\n",
       "    .dataframe thead th {\n",
       "        text-align: right;\n",
       "    }\n",
       "</style>\n",
       "<table border=\"1\" class=\"dataframe\">\n",
       "  <thead>\n",
       "    <tr style=\"text-align: right;\">\n",
       "      <th></th>\n",
       "      <th>Contractor</th>\n",
       "      <th>Value</th>\n",
       "    </tr>\n",
       "  </thead>\n",
       "  <tbody>\n",
       "    <tr>\n",
       "      <th>1330</th>\n",
       "      <td>LLOYD CONSTRUCTION COMPANY</td>\n",
       "      <td>24894422.0</td>\n",
       "    </tr>\n",
       "    <tr>\n",
       "      <th>1919</th>\n",
       "      <td>SIGNATURE COMPANIES LLC</td>\n",
       "      <td>17850109.0</td>\n",
       "    </tr>\n",
       "    <tr>\n",
       "      <th>1655</th>\n",
       "      <td>PESKA CONSTRUCTION INC</td>\n",
       "      <td>15560000.0</td>\n",
       "    </tr>\n",
       "    <tr>\n",
       "      <th>708</th>\n",
       "      <td>EMPIRE HOMES LLC</td>\n",
       "      <td>12357477.0</td>\n",
       "    </tr>\n",
       "    <tr>\n",
       "      <th>1742</th>\n",
       "      <td>REYNOLDS CONSTRUCTION MANAGEMENT SERVICES INC ...</td>\n",
       "      <td>12240242.0</td>\n",
       "    </tr>\n",
       "    <tr>\n",
       "      <th>1241</th>\n",
       "      <td>KN CONSTRUCTION INC</td>\n",
       "      <td>11923955.0</td>\n",
       "    </tr>\n",
       "    <tr>\n",
       "      <th>712</th>\n",
       "      <td>EQUITY HOMES INC</td>\n",
       "      <td>11037829.0</td>\n",
       "    </tr>\n",
       "  </tbody>\n",
       "</table>\n",
       "</div>"
      ],
      "text/plain": [
       "                                             Contractor       Value\n",
       "1330                         LLOYD CONSTRUCTION COMPANY  24894422.0\n",
       "1919                            SIGNATURE COMPANIES LLC  17850109.0\n",
       "1655                             PESKA CONSTRUCTION INC  15560000.0\n",
       "708                                    EMPIRE HOMES LLC  12357477.0\n",
       "1742  REYNOLDS CONSTRUCTION MANAGEMENT SERVICES INC ...  12240242.0\n",
       "1241                                KN CONSTRUCTION INC  11923955.0\n",
       "712                                    EQUITY HOMES INC  11037829.0"
      ]
     },
     "execution_count": 13,
     "metadata": {},
     "output_type": "execute_result"
    }
   ],
   "source": [
    "top_contractors.head(7)"
   ]
  },
  {
   "cell_type": "markdown",
   "metadata": {},
   "source": [
    "### Totaling mid-year data"
   ]
  },
  {
   "cell_type": "code",
   "execution_count": 20,
   "metadata": {},
   "outputs": [
    {
     "data": {
      "text/plain": [
       "291724182.27"
      ]
     },
     "execution_count": 20,
     "metadata": {},
     "output_type": "execute_result"
    }
   ],
   "source": [
    "permits2020.Value.sum()"
   ]
  },
  {
   "cell_type": "code",
   "execution_count": 22,
   "metadata": {},
   "outputs": [
    {
     "data": {
      "text/plain": [
       "8626"
      ]
     },
     "execution_count": 22,
     "metadata": {},
     "output_type": "execute_result"
    }
   ],
   "source": [
    "permits2020.PermitNumber.count()"
   ]
  },
  {
   "cell_type": "markdown",
   "metadata": {},
   "source": [
    "### Isolating data about Lloyd Cos, top contractor by value (thru June)"
   ]
  },
  {
   "cell_type": "code",
   "execution_count": 14,
   "metadata": {},
   "outputs": [],
   "source": [
    "lloydpermits = permits2020[permits2020.Contractor.str.contains('lloyd', case = False)]"
   ]
  },
  {
   "cell_type": "code",
   "execution_count": 15,
   "metadata": {},
   "outputs": [],
   "source": [
    "lloyd = lloydpermits.sort_values('Value', ascending = False)"
   ]
  },
  {
   "cell_type": "code",
   "execution_count": 16,
   "metadata": {},
   "outputs": [
    {
     "data": {
      "text/html": [
       "<div>\n",
       "<style scoped>\n",
       "    .dataframe tbody tr th:only-of-type {\n",
       "        vertical-align: middle;\n",
       "    }\n",
       "\n",
       "    .dataframe tbody tr th {\n",
       "        vertical-align: top;\n",
       "    }\n",
       "\n",
       "    .dataframe thead th {\n",
       "        text-align: right;\n",
       "    }\n",
       "</style>\n",
       "<table border=\"1\" class=\"dataframe\">\n",
       "  <thead>\n",
       "    <tr style=\"text-align: right;\">\n",
       "      <th></th>\n",
       "      <th>Date</th>\n",
       "      <th>PermitNumber</th>\n",
       "      <th>HouseNumber</th>\n",
       "      <th>Street</th>\n",
       "      <th>Type</th>\n",
       "      <th>Description</th>\n",
       "      <th>Contractor</th>\n",
       "      <th>Value</th>\n",
       "    </tr>\n",
       "  </thead>\n",
       "  <tbody>\n",
       "    <tr>\n",
       "      <th>7833</th>\n",
       "      <td>1/31/2020</td>\n",
       "      <td>Permit-CB-153774-2019</td>\n",
       "      <td>1500</td>\n",
       "      <td>S HIGHLINE AVE</td>\n",
       "      <td>Commercial Building</td>\n",
       "      <td>Capital Services</td>\n",
       "      <td>LLOYD CONSTRUCTION COMPANY</td>\n",
       "      <td>8800000.0</td>\n",
       "    </tr>\n",
       "    <tr>\n",
       "      <th>4973</th>\n",
       "      <td>4/13/2020</td>\n",
       "      <td>Permit-CB-160324-2019</td>\n",
       "      <td>220</td>\n",
       "      <td>S SPRING AVE</td>\n",
       "      <td>Commercial Building</td>\n",
       "      <td>Irving Center Apartments -- 3 story, 35 units</td>\n",
       "      <td>LLOYD CONSTRUCTION COMPANY</td>\n",
       "      <td>3441463.0</td>\n",
       "    </tr>\n",
       "    <tr>\n",
       "      <th>6048</th>\n",
       "      <td>3/18/2020</td>\n",
       "      <td>Permit-CB-158107-2019</td>\n",
       "      <td>6810</td>\n",
       "      <td>S MINNESOTA AVE</td>\n",
       "      <td>Commercial Building</td>\n",
       "      <td>American State Bank Office Building</td>\n",
       "      <td>LLOYD CONSTRUCTION COMPANY</td>\n",
       "      <td>3250000.0</td>\n",
       "    </tr>\n",
       "    <tr>\n",
       "      <th>1970</th>\n",
       "      <td>6/4/2020</td>\n",
       "      <td>Permit-CB-170247-2020</td>\n",
       "      <td>701</td>\n",
       "      <td>N PHILLIPS AVE</td>\n",
       "      <td>Commercial Building</td>\n",
       "      <td>Install pool, engineered retaining walls, perg...</td>\n",
       "      <td>LLOYD CONSTRUCTION COMPANY</td>\n",
       "      <td>1000000.0</td>\n",
       "    </tr>\n",
       "    <tr>\n",
       "      <th>5583</th>\n",
       "      <td>3/30/2020</td>\n",
       "      <td>ZON-162777-2020</td>\n",
       "      <td>4101</td>\n",
       "      <td>W 41ST ST</td>\n",
       "      <td>Zoning</td>\n",
       "      <td>NEW PARKING LOT, LANDSCAPING &amp; LIGHTING FOR NE...</td>\n",
       "      <td>LLOYD CONSTRUCTION COMPANY</td>\n",
       "      <td>916895.0</td>\n",
       "    </tr>\n",
       "    <tr>\n",
       "      <th>4229</th>\n",
       "      <td>4/28/2020</td>\n",
       "      <td>Permit-CB-166091-2020</td>\n",
       "      <td>4001</td>\n",
       "      <td>S HAWTHORNE AVE</td>\n",
       "      <td>Commercial Building</td>\n",
       "      <td>Continuum Transitional Housing - Two attached ...</td>\n",
       "      <td>LLOYD CONSTRUCTION COMPANY</td>\n",
       "      <td>850000.0</td>\n",
       "    </tr>\n",
       "    <tr>\n",
       "      <th>6317</th>\n",
       "      <td>3/12/2020</td>\n",
       "      <td>Permit-CB-161181-2020</td>\n",
       "      <td>2001</td>\n",
       "      <td>E 8TH ST</td>\n",
       "      <td>Commercial Building</td>\n",
       "      <td>Converting the school at School for the Deaf t...</td>\n",
       "      <td>LLOYD CONSTRUCTION COMPANY</td>\n",
       "      <td>800000.0</td>\n",
       "    </tr>\n",
       "    <tr>\n",
       "      <th>5503</th>\n",
       "      <td>4/1/2020</td>\n",
       "      <td>Permit-CB-160323-2019</td>\n",
       "      <td>512</td>\n",
       "      <td>N BAHNSON AVE</td>\n",
       "      <td>Commercial Building</td>\n",
       "      <td>1 of 6 new 2 story apartment buildings - 1 att...</td>\n",
       "      <td>LLOYD CONSTRUCTION COMPANY</td>\n",
       "      <td>750000.0</td>\n",
       "    </tr>\n",
       "    <tr>\n",
       "      <th>5495</th>\n",
       "      <td>4/1/2020</td>\n",
       "      <td>Permit-CB-165088-2020</td>\n",
       "      <td>500</td>\n",
       "      <td>N BAHNSON AVE</td>\n",
       "      <td>Commercial Building</td>\n",
       "      <td>2 of 6 new 2 story apartment buildings</td>\n",
       "      <td>LLOYD CONSTRUCTION COMPANY</td>\n",
       "      <td>705000.0</td>\n",
       "    </tr>\n",
       "    <tr>\n",
       "      <th>5496</th>\n",
       "      <td>4/1/2020</td>\n",
       "      <td>Permit-CB-165089-2020</td>\n",
       "      <td>524</td>\n",
       "      <td>N BAHNSON AVE</td>\n",
       "      <td>Commercial Building</td>\n",
       "      <td>3 of 6 new 2 story apartment buildings</td>\n",
       "      <td>LLOYD CONSTRUCTION COMPANY</td>\n",
       "      <td>705000.0</td>\n",
       "    </tr>\n",
       "  </tbody>\n",
       "</table>\n",
       "</div>"
      ],
      "text/plain": [
       "           Date           PermitNumber HouseNumber           Street  \\\n",
       "7833  1/31/2020  Permit-CB-153774-2019        1500   S HIGHLINE AVE   \n",
       "4973  4/13/2020  Permit-CB-160324-2019         220     S SPRING AVE   \n",
       "6048  3/18/2020  Permit-CB-158107-2019        6810  S MINNESOTA AVE   \n",
       "1970   6/4/2020  Permit-CB-170247-2020         701   N PHILLIPS AVE   \n",
       "5583  3/30/2020        ZON-162777-2020        4101        W 41ST ST   \n",
       "4229  4/28/2020  Permit-CB-166091-2020        4001  S HAWTHORNE AVE   \n",
       "6317  3/12/2020  Permit-CB-161181-2020        2001         E 8TH ST   \n",
       "5503   4/1/2020  Permit-CB-160323-2019         512    N BAHNSON AVE   \n",
       "5495   4/1/2020  Permit-CB-165088-2020         500    N BAHNSON AVE   \n",
       "5496   4/1/2020  Permit-CB-165089-2020         524    N BAHNSON AVE   \n",
       "\n",
       "                     Type                                        Description  \\\n",
       "7833  Commercial Building                                   Capital Services   \n",
       "4973  Commercial Building      Irving Center Apartments -- 3 story, 35 units   \n",
       "6048  Commercial Building                American State Bank Office Building   \n",
       "1970  Commercial Building  Install pool, engineered retaining walls, perg...   \n",
       "5583               Zoning  NEW PARKING LOT, LANDSCAPING & LIGHTING FOR NE...   \n",
       "4229  Commercial Building  Continuum Transitional Housing - Two attached ...   \n",
       "6317  Commercial Building  Converting the school at School for the Deaf t...   \n",
       "5503  Commercial Building  1 of 6 new 2 story apartment buildings - 1 att...   \n",
       "5495  Commercial Building             2 of 6 new 2 story apartment buildings   \n",
       "5496  Commercial Building             3 of 6 new 2 story apartment buildings   \n",
       "\n",
       "                      Contractor      Value  \n",
       "7833  LLOYD CONSTRUCTION COMPANY  8800000.0  \n",
       "4973  LLOYD CONSTRUCTION COMPANY  3441463.0  \n",
       "6048  LLOYD CONSTRUCTION COMPANY  3250000.0  \n",
       "1970  LLOYD CONSTRUCTION COMPANY  1000000.0  \n",
       "5583  LLOYD CONSTRUCTION COMPANY   916895.0  \n",
       "4229  LLOYD CONSTRUCTION COMPANY   850000.0  \n",
       "6317  LLOYD CONSTRUCTION COMPANY   800000.0  \n",
       "5503  LLOYD CONSTRUCTION COMPANY   750000.0  \n",
       "5495  LLOYD CONSTRUCTION COMPANY   705000.0  \n",
       "5496  LLOYD CONSTRUCTION COMPANY   705000.0  "
      ]
     },
     "execution_count": 16,
     "metadata": {},
     "output_type": "execute_result"
    }
   ],
   "source": [
    "lloyd.head(10)"
   ]
  },
  {
   "cell_type": "code",
   "execution_count": 17,
   "metadata": {},
   "outputs": [
    {
     "data": {
      "text/html": [
       "<div>\n",
       "<style scoped>\n",
       "    .dataframe tbody tr th:only-of-type {\n",
       "        vertical-align: middle;\n",
       "    }\n",
       "\n",
       "    .dataframe tbody tr th {\n",
       "        vertical-align: top;\n",
       "    }\n",
       "\n",
       "    .dataframe thead th {\n",
       "        text-align: right;\n",
       "    }\n",
       "</style>\n",
       "<table border=\"1\" class=\"dataframe\">\n",
       "  <thead>\n",
       "    <tr style=\"text-align: right;\">\n",
       "      <th></th>\n",
       "      <th>index</th>\n",
       "      <th>Contractor</th>\n",
       "    </tr>\n",
       "  </thead>\n",
       "  <tbody>\n",
       "    <tr>\n",
       "      <th>0</th>\n",
       "      <td>LLOYD CONSTRUCTION COMPANY</td>\n",
       "      <td>32</td>\n",
       "    </tr>\n",
       "    <tr>\n",
       "      <th>1</th>\n",
       "      <td>LLOYD CONSTRUCTION COMPANY/WILLOW PARTNERS LLC...</td>\n",
       "      <td>1</td>\n",
       "    </tr>\n",
       "    <tr>\n",
       "      <th>2</th>\n",
       "      <td>CR LLOYD ASSOCIATES INC</td>\n",
       "      <td>1</td>\n",
       "    </tr>\n",
       "  </tbody>\n",
       "</table>\n",
       "</div>"
      ],
      "text/plain": [
       "                                               index  Contractor\n",
       "0                         LLOYD CONSTRUCTION COMPANY          32\n",
       "1  LLOYD CONSTRUCTION COMPANY/WILLOW PARTNERS LLC...           1\n",
       "2                            CR LLOYD ASSOCIATES INC           1"
      ]
     },
     "execution_count": 17,
     "metadata": {},
     "output_type": "execute_result"
    }
   ],
   "source": [
    "lloyd.Contractor.value_counts().reset_index().head()"
   ]
  },
  {
   "cell_type": "code",
   "execution_count": null,
   "metadata": {},
   "outputs": [],
   "source": []
  }
 ],
 "metadata": {
  "kernelspec": {
   "display_name": "Python 3",
   "language": "python",
   "name": "python3"
  },
  "language_info": {
   "codemirror_mode": {
    "name": "ipython",
    "version": 3
   },
   "file_extension": ".py",
   "mimetype": "text/x-python",
   "name": "python",
   "nbconvert_exporter": "python",
   "pygments_lexer": "ipython3",
   "version": "3.7.4"
  }
 },
 "nbformat": 4,
 "nbformat_minor": 4
}
