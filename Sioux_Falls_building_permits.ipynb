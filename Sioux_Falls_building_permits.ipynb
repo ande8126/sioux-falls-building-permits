{
 "cells": [
  {
   "cell_type": "markdown",
   "metadata": {},
   "source": [
    "# Sioux Falls building permits"
   ]
  },
  {
   "cell_type": "markdown",
   "metadata": {},
   "source": [
    "A resource for importing and working with city building permit data from the city of Sioux Falls, available for free to all users on the City Hall website, siouxfalls.org."
   ]
  },
  {
   "cell_type": "code",
   "execution_count": 1,
   "metadata": {},
   "outputs": [],
   "source": [
    "import pandas as pd"
   ]
  },
  {
   "cell_type": "markdown",
   "metadata": {},
   "source": [
    "### Import the data (up thru mid-year 2020)"
   ]
  },
  {
   "cell_type": "code",
   "execution_count": 2,
   "metadata": {},
   "outputs": [],
   "source": [
    "#use 'r\"C:\\...' to convert to raw string"
   ]
  },
  {
   "cell_type": "code",
   "execution_count": 19,
   "metadata": {},
   "outputs": [],
   "source": [
    "permits_2020 = pd.read_csv(r\"C:\\Users\\panderson\\OneDrive - Gannett Company, Incorporated\\Desktop\\City Building Permit Data\\2020-city-building-permits.csv\")"
   ]
  },
  {
   "cell_type": "code",
   "execution_count": 20,
   "metadata": {},
   "outputs": [],
   "source": [
    "permits_2019 = pd.read_csv(r\"C:\\Users\\panderson\\OneDrive - Gannett Company, Incorporated\\Desktop\\City Building Permit Data\\2019-city-building-permits.csv\")"
   ]
  },
  {
   "cell_type": "code",
   "execution_count": 21,
   "metadata": {},
   "outputs": [],
   "source": [
    "\n",
    "permits_2018 = pd.read_csv(r\"C:\\Users\\panderson\\OneDrive - Gannett Company, Incorporated\\Desktop\\City Building Permit Data\\2018-city-building-permits.csv\")"
   ]
  },
  {
   "cell_type": "code",
   "execution_count": 22,
   "metadata": {},
   "outputs": [],
   "source": [
    "\n",
    "permits_2017 = pd.read_csv(r\"C:\\Users\\panderson\\OneDrive - Gannett Company, Incorporated\\Desktop\\City Building Permit Data\\2017-city-building-permits.csv\")"
   ]
  },
  {
   "cell_type": "code",
   "execution_count": 23,
   "metadata": {},
   "outputs": [],
   "source": [
    "permits_2016 = pd.read_csv(r\"C:\\Users\\panderson\\OneDrive - Gannett Company, Incorporated\\Desktop\\City Building Permit Data\\2016-city-building-permits.csv\")"
   ]
  },
  {
   "cell_type": "code",
   "execution_count": 24,
   "metadata": {},
   "outputs": [],
   "source": [
    "\n",
    "permits_2015 = pd.read_csv(r\"C:\\Users\\panderson\\OneDrive - Gannett Company, Incorporated\\Desktop\\City Building Permit Data\\2015-city-building-permits.csv\")"
   ]
  },
  {
   "cell_type": "code",
   "execution_count": 8,
   "metadata": {},
   "outputs": [],
   "source": [
    "permits_2014 = pd.read_csv(r\"C:\\Users\\panderson\\OneDrive - Gannett Company, Incorporated\\Desktop\\City Building Permit Data\\2014-city-building-permits.csv\")"
   ]
  },
  {
   "cell_type": "markdown",
   "metadata": {},
   "source": [
    "### Combining the tables"
   ]
  },
  {
   "cell_type": "code",
   "execution_count": 11,
   "metadata": {},
   "outputs": [],
   "source": [
    "frames = [permits_2014, permits_2015, permits_2016, permits_2017, permits_2018, permits_2019]"
   ]
  },
  {
   "cell_type": "code",
   "execution_count": 12,
   "metadata": {},
   "outputs": [],
   "source": [
    "#join with pd.concat"
   ]
  },
  {
   "cell_type": "code",
   "execution_count": 13,
   "metadata": {},
   "outputs": [],
   "source": [
    "all_permits = pd.concat(frames)"
   ]
  },
  {
   "cell_type": "code",
   "execution_count": 14,
   "metadata": {},
   "outputs": [
    {
     "name": "stdout",
     "output_type": "stream",
     "text": [
      "<class 'pandas.core.frame.DataFrame'>\n",
      "Int64Index: 77835 entries, 0 to 17416\n",
      "Data columns (total 8 columns):\n",
      " #   Column        Non-Null Count  Dtype  \n",
      "---  ------        --------------  -----  \n",
      " 0   Date          77835 non-null  object \n",
      " 1   PermitNumber  77835 non-null  object \n",
      " 2   HouseNumber   77835 non-null  object \n",
      " 3   Street        77835 non-null  object \n",
      " 4   Type          77835 non-null  object \n",
      " 5   Description   76956 non-null  object \n",
      " 6   Contractor    77794 non-null  object \n",
      " 7   Value         77835 non-null  float64\n",
      "dtypes: float64(1), object(7)\n",
      "memory usage: 3.3+ MB\n"
     ]
    }
   ],
   "source": [
    "all_permits.info()"
   ]
  },
  {
   "cell_type": "code",
   "execution_count": 16,
   "metadata": {},
   "outputs": [
    {
     "data": {
      "text/html": [
       "<div>\n",
       "<style scoped>\n",
       "    .dataframe tbody tr th:only-of-type {\n",
       "        vertical-align: middle;\n",
       "    }\n",
       "\n",
       "    .dataframe tbody tr th {\n",
       "        vertical-align: top;\n",
       "    }\n",
       "\n",
       "    .dataframe thead th {\n",
       "        text-align: right;\n",
       "    }\n",
       "</style>\n",
       "<table border=\"1\" class=\"dataframe\">\n",
       "  <thead>\n",
       "    <tr style=\"text-align: right;\">\n",
       "      <th></th>\n",
       "      <th>Date</th>\n",
       "      <th>PermitNumber</th>\n",
       "      <th>HouseNumber</th>\n",
       "      <th>Street</th>\n",
       "      <th>Type</th>\n",
       "      <th>Description</th>\n",
       "      <th>Contractor</th>\n",
       "      <th>Value</th>\n",
       "    </tr>\n",
       "  </thead>\n",
       "  <tbody>\n",
       "    <tr>\n",
       "      <th>0</th>\n",
       "      <td>12/31/2014 0:00</td>\n",
       "      <td>FENCE-13651</td>\n",
       "      <td>709</td>\n",
       "      <td>S CLEARBROOK AVE</td>\n",
       "      <td>Fence</td>\n",
       "      <td>NaN</td>\n",
       "      <td>AIRWAY SERVICE INC - CHRIS BROADBENT</td>\n",
       "      <td>0.0</td>\n",
       "    </tr>\n",
       "    <tr>\n",
       "      <th>1</th>\n",
       "      <td>12/31/2014 0:00</td>\n",
       "      <td>FENCE-13749</td>\n",
       "      <td>8908</td>\n",
       "      <td>W STONEY CREEK ST</td>\n",
       "      <td>Fence</td>\n",
       "      <td>NaN</td>\n",
       "      <td>AMERICAN FENCE COMPANY OF SOUTH DAKOTA</td>\n",
       "      <td>0.0</td>\n",
       "    </tr>\n",
       "    <tr>\n",
       "      <th>2</th>\n",
       "      <td>12/31/2014 0:00</td>\n",
       "      <td>FENCE-13786</td>\n",
       "      <td>8809</td>\n",
       "      <td>W NIKITA DR</td>\n",
       "      <td>Fence</td>\n",
       "      <td>NaN</td>\n",
       "      <td>FENCE GUY, THE</td>\n",
       "      <td>0.0</td>\n",
       "    </tr>\n",
       "    <tr>\n",
       "      <th>3</th>\n",
       "      <td>12/31/2014 0:00</td>\n",
       "      <td>FENCE-13850</td>\n",
       "      <td>8804</td>\n",
       "      <td>W 18TH ST</td>\n",
       "      <td>Fence</td>\n",
       "      <td>NaN</td>\n",
       "      <td>EMPIRE FENCE</td>\n",
       "      <td>0.0</td>\n",
       "    </tr>\n",
       "    <tr>\n",
       "      <th>4</th>\n",
       "      <td>12/31/2014 0:00</td>\n",
       "      <td>FENCE-13898</td>\n",
       "      <td>1207</td>\n",
       "      <td>S MONTICELLO CT</td>\n",
       "      <td>Fence</td>\n",
       "      <td>NaN</td>\n",
       "      <td>MICHAELS FENCE</td>\n",
       "      <td>0.0</td>\n",
       "    </tr>\n",
       "  </tbody>\n",
       "</table>\n",
       "</div>"
      ],
      "text/plain": [
       "              Date PermitNumber HouseNumber             Street   Type  \\\n",
       "0  12/31/2014 0:00  FENCE-13651         709   S CLEARBROOK AVE  Fence   \n",
       "1  12/31/2014 0:00  FENCE-13749        8908  W STONEY CREEK ST  Fence   \n",
       "2  12/31/2014 0:00  FENCE-13786        8809        W NIKITA DR  Fence   \n",
       "3  12/31/2014 0:00  FENCE-13850        8804          W 18TH ST  Fence   \n",
       "4  12/31/2014 0:00  FENCE-13898        1207    S MONTICELLO CT  Fence   \n",
       "\n",
       "  Description                              Contractor  Value  \n",
       "0         NaN    AIRWAY SERVICE INC - CHRIS BROADBENT    0.0  \n",
       "1         NaN  AMERICAN FENCE COMPANY OF SOUTH DAKOTA    0.0  \n",
       "2         NaN                          FENCE GUY, THE    0.0  \n",
       "3         NaN                            EMPIRE FENCE    0.0  \n",
       "4         NaN                          MICHAELS FENCE    0.0  "
      ]
     },
     "execution_count": 16,
     "metadata": {},
     "output_type": "execute_result"
    }
   ],
   "source": [
    "all_permits.head()"
   ]
  },
  {
   "cell_type": "code",
   "execution_count": 17,
   "metadata": {},
   "outputs": [],
   "source": [
    "#clear out empty cells with dropna"
   ]
  },
  {
   "cell_type": "code",
   "execution_count": 18,
   "metadata": {},
   "outputs": [],
   "source": [
    "allpermits = all_permits.dropna()"
   ]
  },
  {
   "cell_type": "code",
   "execution_count": null,
   "metadata": {},
   "outputs": [],
   "source": []
  }
 ],
 "metadata": {
  "kernelspec": {
   "display_name": "Python 3",
   "language": "python",
   "name": "python3"
  },
  "language_info": {
   "codemirror_mode": {
    "name": "ipython",
    "version": 3
   },
   "file_extension": ".py",
   "mimetype": "text/x-python",
   "name": "python",
   "nbconvert_exporter": "python",
   "pygments_lexer": "ipython3",
   "version": "3.7.4"
  }
 },
 "nbformat": 4,
 "nbformat_minor": 4
}
